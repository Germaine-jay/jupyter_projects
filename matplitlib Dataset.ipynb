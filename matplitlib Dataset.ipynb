{
 "cells": [
  {
   "cell_type": "code",
   "execution_count": 1,
   "metadata": {},
   "outputs": [],
   "source": [
    "import pandas as pd\n",
    "import numpy as np\n",
    "%matplotlib inline\n",
    "import matplotlib.pyplot as plt"
   ]
  },
  {
   "cell_type": "code",
   "execution_count": 2,
   "metadata": {},
   "outputs": [
    {
     "data": {
      "text/plain": [
       "(5656458, 6)"
      ]
     },
     "execution_count": 2,
     "metadata": {},
     "output_type": "execute_result"
    }
   ],
   "source": [
    "data= pd.read_csv('C:/Users/INTEL/Documents/Indicators.csv')\n",
    "data.shape"
   ]
  },
  {
   "cell_type": "code",
   "execution_count": 3,
   "metadata": {
    "scrolled": true
   },
   "outputs": [
    {
     "data": {
      "text/html": [
       "<div>\n",
       "<style scoped>\n",
       "    .dataframe tbody tr th:only-of-type {\n",
       "        vertical-align: middle;\n",
       "    }\n",
       "\n",
       "    .dataframe tbody tr th {\n",
       "        vertical-align: top;\n",
       "    }\n",
       "\n",
       "    .dataframe thead th {\n",
       "        text-align: right;\n",
       "    }\n",
       "</style>\n",
       "<table border=\"1\" class=\"dataframe\">\n",
       "  <thead>\n",
       "    <tr style=\"text-align: right;\">\n",
       "      <th></th>\n",
       "      <th>CountryName</th>\n",
       "      <th>CountryCode</th>\n",
       "      <th>IndicatorName</th>\n",
       "      <th>IndicatorCode</th>\n",
       "      <th>Year</th>\n",
       "      <th>Value</th>\n",
       "    </tr>\n",
       "  </thead>\n",
       "  <tbody>\n",
       "    <tr>\n",
       "      <th>10000</th>\n",
       "      <td>Georgia</td>\n",
       "      <td>GEO</td>\n",
       "      <td>Survival to age 65, male (% of cohort)</td>\n",
       "      <td>SP.DYN.TO65.MA.ZS</td>\n",
       "      <td>1960</td>\n",
       "      <td>5.466445e+01</td>\n",
       "    </tr>\n",
       "    <tr>\n",
       "      <th>10001</th>\n",
       "      <td>Georgia</td>\n",
       "      <td>GEO</td>\n",
       "      <td>Urban population</td>\n",
       "      <td>SP.URB.TOTL</td>\n",
       "      <td>1960</td>\n",
       "      <td>1.570123e+06</td>\n",
       "    </tr>\n",
       "    <tr>\n",
       "      <th>10002</th>\n",
       "      <td>Georgia</td>\n",
       "      <td>GEO</td>\n",
       "      <td>Urban population (% of total)</td>\n",
       "      <td>SP.URB.TOTL.IN.ZS</td>\n",
       "      <td>1960</td>\n",
       "      <td>4.306900e+01</td>\n",
       "    </tr>\n",
       "    <tr>\n",
       "      <th>10003</th>\n",
       "      <td>Georgia</td>\n",
       "      <td>GEO</td>\n",
       "      <td>Urban population growth (annual %)</td>\n",
       "      <td>SP.URB.GROW</td>\n",
       "      <td>1960</td>\n",
       "      <td>2.987981e+00</td>\n",
       "    </tr>\n",
       "    <tr>\n",
       "      <th>10004</th>\n",
       "      <td>Germany</td>\n",
       "      <td>DEU</td>\n",
       "      <td>Adolescent fertility rate (births per 1,000 wo...</td>\n",
       "      <td>SP.ADO.TFRT</td>\n",
       "      <td>1960</td>\n",
       "      <td>3.797980e+01</td>\n",
       "    </tr>\n",
       "    <tr>\n",
       "      <th>10005</th>\n",
       "      <td>Germany</td>\n",
       "      <td>DEU</td>\n",
       "      <td>Age dependency ratio (% of working-age populat...</td>\n",
       "      <td>SP.POP.DPND</td>\n",
       "      <td>1960</td>\n",
       "      <td>4.914038e+01</td>\n",
       "    </tr>\n",
       "    <tr>\n",
       "      <th>10006</th>\n",
       "      <td>Germany</td>\n",
       "      <td>DEU</td>\n",
       "      <td>Age dependency ratio, old (% of working-age po...</td>\n",
       "      <td>SP.POP.DPND.OL</td>\n",
       "      <td>1960</td>\n",
       "      <td>1.716797e+01</td>\n",
       "    </tr>\n",
       "    <tr>\n",
       "      <th>10007</th>\n",
       "      <td>Germany</td>\n",
       "      <td>DEU</td>\n",
       "      <td>Age dependency ratio, young (% of working-age ...</td>\n",
       "      <td>SP.POP.DPND.YG</td>\n",
       "      <td>1960</td>\n",
       "      <td>3.197240e+01</td>\n",
       "    </tr>\n",
       "    <tr>\n",
       "      <th>10008</th>\n",
       "      <td>Germany</td>\n",
       "      <td>DEU</td>\n",
       "      <td>Alternative and nuclear energy (% of total ene...</td>\n",
       "      <td>EG.USE.COMM.CL.ZS</td>\n",
       "      <td>1960</td>\n",
       "      <td>7.279096e-01</td>\n",
       "    </tr>\n",
       "    <tr>\n",
       "      <th>10009</th>\n",
       "      <td>Germany</td>\n",
       "      <td>DEU</td>\n",
       "      <td>Arms exports (SIPRI trend indicator values)</td>\n",
       "      <td>MS.MIL.XPRT.KD</td>\n",
       "      <td>1960</td>\n",
       "      <td>1.560000e+08</td>\n",
       "    </tr>\n",
       "    <tr>\n",
       "      <th>10010</th>\n",
       "      <td>Germany</td>\n",
       "      <td>DEU</td>\n",
       "      <td>Arms imports (SIPRI trend indicator values)</td>\n",
       "      <td>MS.MIL.MPRT.KD</td>\n",
       "      <td>1960</td>\n",
       "      <td>2.009000e+09</td>\n",
       "    </tr>\n",
       "    <tr>\n",
       "      <th>10011</th>\n",
       "      <td>Germany</td>\n",
       "      <td>DEU</td>\n",
       "      <td>Birth rate, crude (per 1,000 people)</td>\n",
       "      <td>SP.DYN.CBRT.IN</td>\n",
       "      <td>1960</td>\n",
       "      <td>1.730000e+01</td>\n",
       "    </tr>\n",
       "    <tr>\n",
       "      <th>10012</th>\n",
       "      <td>Germany</td>\n",
       "      <td>DEU</td>\n",
       "      <td>CO2 emissions from electricity and heat produc...</td>\n",
       "      <td>EN.CO2.ETOT.ZS</td>\n",
       "      <td>1960</td>\n",
       "      <td>3.372470e+01</td>\n",
       "    </tr>\n",
       "    <tr>\n",
       "      <th>10013</th>\n",
       "      <td>Germany</td>\n",
       "      <td>DEU</td>\n",
       "      <td>CO2 emissions from manufacturing industries an...</td>\n",
       "      <td>EN.CO2.MANF.ZS</td>\n",
       "      <td>1960</td>\n",
       "      <td>3.313008e+01</td>\n",
       "    </tr>\n",
       "    <tr>\n",
       "      <th>10014</th>\n",
       "      <td>Germany</td>\n",
       "      <td>DEU</td>\n",
       "      <td>CO2 emissions from other sectors, excluding re...</td>\n",
       "      <td>EN.CO2.OTHX.ZS</td>\n",
       "      <td>1960</td>\n",
       "      <td>5.807942e+00</td>\n",
       "    </tr>\n",
       "    <tr>\n",
       "      <th>10015</th>\n",
       "      <td>Germany</td>\n",
       "      <td>DEU</td>\n",
       "      <td>CO2 emissions from residential buildings and c...</td>\n",
       "      <td>EN.CO2.BLDG.ZS</td>\n",
       "      <td>1960</td>\n",
       "      <td>1.740489e+01</td>\n",
       "    </tr>\n",
       "    <tr>\n",
       "      <th>10016</th>\n",
       "      <td>Germany</td>\n",
       "      <td>DEU</td>\n",
       "      <td>CO2 emissions from transport (% of total fuel ...</td>\n",
       "      <td>EN.CO2.TRAN.ZS</td>\n",
       "      <td>1960</td>\n",
       "      <td>9.934289e+00</td>\n",
       "    </tr>\n",
       "    <tr>\n",
       "      <th>10017</th>\n",
       "      <td>Germany</td>\n",
       "      <td>DEU</td>\n",
       "      <td>Combustible renewables and waste (% of total e...</td>\n",
       "      <td>EG.USE.CRNW.ZS</td>\n",
       "      <td>1960</td>\n",
       "      <td>0.000000e+00</td>\n",
       "    </tr>\n",
       "    <tr>\n",
       "      <th>10018</th>\n",
       "      <td>Germany</td>\n",
       "      <td>DEU</td>\n",
       "      <td>Death rate, crude (per 1,000 people)</td>\n",
       "      <td>SP.DYN.CDRT.IN</td>\n",
       "      <td>1960</td>\n",
       "      <td>1.200000e+01</td>\n",
       "    </tr>\n",
       "    <tr>\n",
       "      <th>10019</th>\n",
       "      <td>Germany</td>\n",
       "      <td>DEU</td>\n",
       "      <td>DEC alternative conversion factor (LCU per US$)</td>\n",
       "      <td>PA.NUS.ATLS</td>\n",
       "      <td>1960</td>\n",
       "      <td>2.147426e+00</td>\n",
       "    </tr>\n",
       "    <tr>\n",
       "      <th>10020</th>\n",
       "      <td>Germany</td>\n",
       "      <td>DEU</td>\n",
       "      <td>Electric power consumption (kWh per capita)</td>\n",
       "      <td>EG.USE.ELEC.KH.PC</td>\n",
       "      <td>1960</td>\n",
       "      <td>1.586749e+03</td>\n",
       "    </tr>\n",
       "    <tr>\n",
       "      <th>10021</th>\n",
       "      <td>Germany</td>\n",
       "      <td>DEU</td>\n",
       "      <td>Electric power transmission and distribution l...</td>\n",
       "      <td>EG.ELC.LOSS.ZS</td>\n",
       "      <td>1960</td>\n",
       "      <td>6.482650e+00</td>\n",
       "    </tr>\n",
       "    <tr>\n",
       "      <th>10022</th>\n",
       "      <td>Germany</td>\n",
       "      <td>DEU</td>\n",
       "      <td>Electricity production from coal sources (% of...</td>\n",
       "      <td>EG.ELC.COAL.ZS</td>\n",
       "      <td>1960</td>\n",
       "      <td>8.702877e+01</td>\n",
       "    </tr>\n",
       "    <tr>\n",
       "      <th>10023</th>\n",
       "      <td>Germany</td>\n",
       "      <td>DEU</td>\n",
       "      <td>Electricity production from hydroelectric sour...</td>\n",
       "      <td>EG.ELC.HYRO.ZS</td>\n",
       "      <td>1960</td>\n",
       "      <td>1.019235e+01</td>\n",
       "    </tr>\n",
       "    <tr>\n",
       "      <th>10024</th>\n",
       "      <td>Germany</td>\n",
       "      <td>DEU</td>\n",
       "      <td>Electricity production from natural gas source...</td>\n",
       "      <td>EG.ELC.NGAS.ZS</td>\n",
       "      <td>1960</td>\n",
       "      <td>7.029788e-02</td>\n",
       "    </tr>\n",
       "    <tr>\n",
       "      <th>10025</th>\n",
       "      <td>Germany</td>\n",
       "      <td>DEU</td>\n",
       "      <td>Electricity production from nuclear sources (%...</td>\n",
       "      <td>EG.ELC.NUCL.ZS</td>\n",
       "      <td>1960</td>\n",
       "      <td>0.000000e+00</td>\n",
       "    </tr>\n",
       "    <tr>\n",
       "      <th>10026</th>\n",
       "      <td>Germany</td>\n",
       "      <td>DEU</td>\n",
       "      <td>Electricity production from oil sources (% of ...</td>\n",
       "      <td>EG.ELC.PETR.ZS</td>\n",
       "      <td>1960</td>\n",
       "      <td>2.708586e+00</td>\n",
       "    </tr>\n",
       "    <tr>\n",
       "      <th>10027</th>\n",
       "      <td>Germany</td>\n",
       "      <td>DEU</td>\n",
       "      <td>Electricity production from oil, gas and coal ...</td>\n",
       "      <td>EG.ELC.FOSL.ZS</td>\n",
       "      <td>1960</td>\n",
       "      <td>8.980765e+01</td>\n",
       "    </tr>\n",
       "    <tr>\n",
       "      <th>10028</th>\n",
       "      <td>Germany</td>\n",
       "      <td>DEU</td>\n",
       "      <td>Electricity production from renewable sources,...</td>\n",
       "      <td>EG.ELC.RNWX.ZS</td>\n",
       "      <td>1960</td>\n",
       "      <td>0.000000e+00</td>\n",
       "    </tr>\n",
       "    <tr>\n",
       "      <th>10029</th>\n",
       "      <td>Germany</td>\n",
       "      <td>DEU</td>\n",
       "      <td>Electricity production from renewable sources,...</td>\n",
       "      <td>EG.ELC.RNWX.KH</td>\n",
       "      <td>1960</td>\n",
       "      <td>0.000000e+00</td>\n",
       "    </tr>\n",
       "    <tr>\n",
       "      <th>10030</th>\n",
       "      <td>Germany</td>\n",
       "      <td>DEU</td>\n",
       "      <td>Energy imports, net (% of energy use)</td>\n",
       "      <td>EG.IMP.CONS.ZS</td>\n",
       "      <td>1960</td>\n",
       "      <td>1.189783e+01</td>\n",
       "    </tr>\n",
       "    <tr>\n",
       "      <th>10031</th>\n",
       "      <td>Germany</td>\n",
       "      <td>DEU</td>\n",
       "      <td>Energy use (kg of oil equivalent per capita)</td>\n",
       "      <td>EG.USE.PCAP.KG.OE</td>\n",
       "      <td>1960</td>\n",
       "      <td>1.952589e+03</td>\n",
       "    </tr>\n",
       "    <tr>\n",
       "      <th>10032</th>\n",
       "      <td>Germany</td>\n",
       "      <td>DEU</td>\n",
       "      <td>Fertility rate, total (births per woman)</td>\n",
       "      <td>SP.DYN.TFRT.IN</td>\n",
       "      <td>1960</td>\n",
       "      <td>2.370000e+00</td>\n",
       "    </tr>\n",
       "    <tr>\n",
       "      <th>10033</th>\n",
       "      <td>Germany</td>\n",
       "      <td>DEU</td>\n",
       "      <td>Fixed telephone subscriptions</td>\n",
       "      <td>IT.MLT.MAIN</td>\n",
       "      <td>1960</td>\n",
       "      <td>3.220990e+06</td>\n",
       "    </tr>\n",
       "    <tr>\n",
       "      <th>10034</th>\n",
       "      <td>Germany</td>\n",
       "      <td>DEU</td>\n",
       "      <td>Fixed telephone subscriptions (per 100 people)</td>\n",
       "      <td>IT.MLT.MAIN.P2</td>\n",
       "      <td>1960</td>\n",
       "      <td>4.392091e+00</td>\n",
       "    </tr>\n",
       "    <tr>\n",
       "      <th>10035</th>\n",
       "      <td>Germany</td>\n",
       "      <td>DEU</td>\n",
       "      <td>Fossil fuel energy consumption (% of total)</td>\n",
       "      <td>EG.USE.COMM.FO.ZS</td>\n",
       "      <td>1960</td>\n",
       "      <td>9.902016e+01</td>\n",
       "    </tr>\n",
       "    <tr>\n",
       "      <th>10036</th>\n",
       "      <td>Germany</td>\n",
       "      <td>DEU</td>\n",
       "      <td>Hospital beds (per 1,000 people)</td>\n",
       "      <td>SH.MED.BEDS.ZS</td>\n",
       "      <td>1960</td>\n",
       "      <td>1.050000e+01</td>\n",
       "    </tr>\n",
       "    <tr>\n",
       "      <th>10037</th>\n",
       "      <td>Germany</td>\n",
       "      <td>DEU</td>\n",
       "      <td>Life expectancy at birth, female (years)</td>\n",
       "      <td>SP.DYN.LE00.FE.IN</td>\n",
       "      <td>1960</td>\n",
       "      <td>7.200300e+01</td>\n",
       "    </tr>\n",
       "    <tr>\n",
       "      <th>10038</th>\n",
       "      <td>Germany</td>\n",
       "      <td>DEU</td>\n",
       "      <td>Life expectancy at birth, male (years)</td>\n",
       "      <td>SP.DYN.LE00.MA.IN</td>\n",
       "      <td>1960</td>\n",
       "      <td>6.675100e+01</td>\n",
       "    </tr>\n",
       "    <tr>\n",
       "      <th>10039</th>\n",
       "      <td>Germany</td>\n",
       "      <td>DEU</td>\n",
       "      <td>Life expectancy at birth, total (years)</td>\n",
       "      <td>SP.DYN.LE00.IN</td>\n",
       "      <td>1960</td>\n",
       "      <td>6.931295e+01</td>\n",
       "    </tr>\n",
       "  </tbody>\n",
       "</table>\n",
       "</div>"
      ],
      "text/plain": [
       "      CountryName CountryCode  \\\n",
       "10000     Georgia         GEO   \n",
       "10001     Georgia         GEO   \n",
       "10002     Georgia         GEO   \n",
       "10003     Georgia         GEO   \n",
       "10004     Germany         DEU   \n",
       "10005     Germany         DEU   \n",
       "10006     Germany         DEU   \n",
       "10007     Germany         DEU   \n",
       "10008     Germany         DEU   \n",
       "10009     Germany         DEU   \n",
       "10010     Germany         DEU   \n",
       "10011     Germany         DEU   \n",
       "10012     Germany         DEU   \n",
       "10013     Germany         DEU   \n",
       "10014     Germany         DEU   \n",
       "10015     Germany         DEU   \n",
       "10016     Germany         DEU   \n",
       "10017     Germany         DEU   \n",
       "10018     Germany         DEU   \n",
       "10019     Germany         DEU   \n",
       "10020     Germany         DEU   \n",
       "10021     Germany         DEU   \n",
       "10022     Germany         DEU   \n",
       "10023     Germany         DEU   \n",
       "10024     Germany         DEU   \n",
       "10025     Germany         DEU   \n",
       "10026     Germany         DEU   \n",
       "10027     Germany         DEU   \n",
       "10028     Germany         DEU   \n",
       "10029     Germany         DEU   \n",
       "10030     Germany         DEU   \n",
       "10031     Germany         DEU   \n",
       "10032     Germany         DEU   \n",
       "10033     Germany         DEU   \n",
       "10034     Germany         DEU   \n",
       "10035     Germany         DEU   \n",
       "10036     Germany         DEU   \n",
       "10037     Germany         DEU   \n",
       "10038     Germany         DEU   \n",
       "10039     Germany         DEU   \n",
       "\n",
       "                                           IndicatorName      IndicatorCode  \\\n",
       "10000             Survival to age 65, male (% of cohort)  SP.DYN.TO65.MA.ZS   \n",
       "10001                                   Urban population        SP.URB.TOTL   \n",
       "10002                      Urban population (% of total)  SP.URB.TOTL.IN.ZS   \n",
       "10003                 Urban population growth (annual %)        SP.URB.GROW   \n",
       "10004  Adolescent fertility rate (births per 1,000 wo...        SP.ADO.TFRT   \n",
       "10005  Age dependency ratio (% of working-age populat...        SP.POP.DPND   \n",
       "10006  Age dependency ratio, old (% of working-age po...     SP.POP.DPND.OL   \n",
       "10007  Age dependency ratio, young (% of working-age ...     SP.POP.DPND.YG   \n",
       "10008  Alternative and nuclear energy (% of total ene...  EG.USE.COMM.CL.ZS   \n",
       "10009        Arms exports (SIPRI trend indicator values)     MS.MIL.XPRT.KD   \n",
       "10010        Arms imports (SIPRI trend indicator values)     MS.MIL.MPRT.KD   \n",
       "10011               Birth rate, crude (per 1,000 people)     SP.DYN.CBRT.IN   \n",
       "10012  CO2 emissions from electricity and heat produc...     EN.CO2.ETOT.ZS   \n",
       "10013  CO2 emissions from manufacturing industries an...     EN.CO2.MANF.ZS   \n",
       "10014  CO2 emissions from other sectors, excluding re...     EN.CO2.OTHX.ZS   \n",
       "10015  CO2 emissions from residential buildings and c...     EN.CO2.BLDG.ZS   \n",
       "10016  CO2 emissions from transport (% of total fuel ...     EN.CO2.TRAN.ZS   \n",
       "10017  Combustible renewables and waste (% of total e...     EG.USE.CRNW.ZS   \n",
       "10018               Death rate, crude (per 1,000 people)     SP.DYN.CDRT.IN   \n",
       "10019    DEC alternative conversion factor (LCU per US$)        PA.NUS.ATLS   \n",
       "10020        Electric power consumption (kWh per capita)  EG.USE.ELEC.KH.PC   \n",
       "10021  Electric power transmission and distribution l...     EG.ELC.LOSS.ZS   \n",
       "10022  Electricity production from coal sources (% of...     EG.ELC.COAL.ZS   \n",
       "10023  Electricity production from hydroelectric sour...     EG.ELC.HYRO.ZS   \n",
       "10024  Electricity production from natural gas source...     EG.ELC.NGAS.ZS   \n",
       "10025  Electricity production from nuclear sources (%...     EG.ELC.NUCL.ZS   \n",
       "10026  Electricity production from oil sources (% of ...     EG.ELC.PETR.ZS   \n",
       "10027  Electricity production from oil, gas and coal ...     EG.ELC.FOSL.ZS   \n",
       "10028  Electricity production from renewable sources,...     EG.ELC.RNWX.ZS   \n",
       "10029  Electricity production from renewable sources,...     EG.ELC.RNWX.KH   \n",
       "10030              Energy imports, net (% of energy use)     EG.IMP.CONS.ZS   \n",
       "10031       Energy use (kg of oil equivalent per capita)  EG.USE.PCAP.KG.OE   \n",
       "10032           Fertility rate, total (births per woman)     SP.DYN.TFRT.IN   \n",
       "10033                      Fixed telephone subscriptions        IT.MLT.MAIN   \n",
       "10034     Fixed telephone subscriptions (per 100 people)     IT.MLT.MAIN.P2   \n",
       "10035        Fossil fuel energy consumption (% of total)  EG.USE.COMM.FO.ZS   \n",
       "10036                   Hospital beds (per 1,000 people)     SH.MED.BEDS.ZS   \n",
       "10037           Life expectancy at birth, female (years)  SP.DYN.LE00.FE.IN   \n",
       "10038             Life expectancy at birth, male (years)  SP.DYN.LE00.MA.IN   \n",
       "10039            Life expectancy at birth, total (years)     SP.DYN.LE00.IN   \n",
       "\n",
       "       Year         Value  \n",
       "10000  1960  5.466445e+01  \n",
       "10001  1960  1.570123e+06  \n",
       "10002  1960  4.306900e+01  \n",
       "10003  1960  2.987981e+00  \n",
       "10004  1960  3.797980e+01  \n",
       "10005  1960  4.914038e+01  \n",
       "10006  1960  1.716797e+01  \n",
       "10007  1960  3.197240e+01  \n",
       "10008  1960  7.279096e-01  \n",
       "10009  1960  1.560000e+08  \n",
       "10010  1960  2.009000e+09  \n",
       "10011  1960  1.730000e+01  \n",
       "10012  1960  3.372470e+01  \n",
       "10013  1960  3.313008e+01  \n",
       "10014  1960  5.807942e+00  \n",
       "10015  1960  1.740489e+01  \n",
       "10016  1960  9.934289e+00  \n",
       "10017  1960  0.000000e+00  \n",
       "10018  1960  1.200000e+01  \n",
       "10019  1960  2.147426e+00  \n",
       "10020  1960  1.586749e+03  \n",
       "10021  1960  6.482650e+00  \n",
       "10022  1960  8.702877e+01  \n",
       "10023  1960  1.019235e+01  \n",
       "10024  1960  7.029788e-02  \n",
       "10025  1960  0.000000e+00  \n",
       "10026  1960  2.708586e+00  \n",
       "10027  1960  8.980765e+01  \n",
       "10028  1960  0.000000e+00  \n",
       "10029  1960  0.000000e+00  \n",
       "10030  1960  1.189783e+01  \n",
       "10031  1960  1.952589e+03  \n",
       "10032  1960  2.370000e+00  \n",
       "10033  1960  3.220990e+06  \n",
       "10034  1960  4.392091e+00  \n",
       "10035  1960  9.902016e+01  \n",
       "10036  1960  1.050000e+01  \n",
       "10037  1960  7.200300e+01  \n",
       "10038  1960  6.675100e+01  \n",
       "10039  1960  6.931295e+01  "
      ]
     },
     "execution_count": 3,
     "metadata": {},
     "output_type": "execute_result"
    }
   ],
   "source": [
    "data[10000:10040]"
   ]
  },
  {
   "cell_type": "code",
   "execution_count": 4,
   "metadata": {},
   "outputs": [
    {
     "data": {
      "text/plain": [
       "247"
      ]
     },
     "execution_count": 4,
     "metadata": {},
     "output_type": "execute_result"
    }
   ],
   "source": [
    "countries = data['CountryName'].unique().tolist()\n",
    "len(countries)"
   ]
  },
  {
   "cell_type": "code",
   "execution_count": 5,
   "metadata": {
    "scrolled": true
   },
   "outputs": [
    {
     "data": {
      "text/plain": [
       "['Arab World',\n",
       " 'Caribbean small states',\n",
       " 'Central Europe and the Baltics',\n",
       " 'East Asia & Pacific (all income levels)',\n",
       " 'East Asia & Pacific (developing only)',\n",
       " 'Euro area',\n",
       " 'Europe & Central Asia (all income levels)',\n",
       " 'Europe & Central Asia (developing only)',\n",
       " 'European Union',\n",
       " 'Fragile and conflict affected situations']"
      ]
     },
     "execution_count": 5,
     "metadata": {},
     "output_type": "execute_result"
    }
   ],
   "source": [
    "countries = data['CountryName'].unique().tolist()\n",
    "countries[:10]"
   ]
  },
  {
   "cell_type": "code",
   "execution_count": 6,
   "metadata": {},
   "outputs": [
    {
     "data": {
      "text/plain": [
       "247"
      ]
     },
     "execution_count": 6,
     "metadata": {},
     "output_type": "execute_result"
    }
   ],
   "source": [
    "country_code = data['CountryCode'].unique().tolist()\n",
    "len(country_code)"
   ]
  },
  {
   "cell_type": "code",
   "execution_count": 7,
   "metadata": {},
   "outputs": [
    {
     "data": {
      "text/plain": [
       "CountryName      False\n",
       "CountryCode      False\n",
       "IndicatorName    False\n",
       "IndicatorCode    False\n",
       "Year             False\n",
       "Value            False\n",
       "dtype: bool"
      ]
     },
     "execution_count": 7,
     "metadata": {},
     "output_type": "execute_result"
    }
   ],
   "source": [
    "data.isnull().all()"
   ]
  },
  {
   "cell_type": "code",
   "execution_count": 8,
   "metadata": {},
   "outputs": [
    {
     "data": {
      "text/plain": [
       "1344"
      ]
     },
     "execution_count": 8,
     "metadata": {},
     "output_type": "execute_result"
    }
   ],
   "source": [
    "indicators= data['IndicatorName'].unique().tolist()\n",
    "len(indicators)"
   ]
  },
  {
   "cell_type": "code",
   "execution_count": 9,
   "metadata": {},
   "outputs": [
    {
     "data": {
      "text/plain": [
       "56"
      ]
     },
     "execution_count": 9,
     "metadata": {},
     "output_type": "execute_result"
    }
   ],
   "source": [
    "years=data['Year'].unique().tolist()\n",
    "len(years)"
   ]
  },
  {
   "cell_type": "code",
   "execution_count": 10,
   "metadata": {},
   "outputs": [
    {
     "name": "stdout",
     "output_type": "stream",
     "text": [
      "1960 to 2015\n"
     ]
    }
   ],
   "source": [
    "print(min(years),'to', max(years))"
   ]
  },
  {
   "cell_type": "code",
   "execution_count": 11,
   "metadata": {
    "scrolled": true
   },
   "outputs": [],
   "source": [
    "mask1= data['IndicatorName'].str.contains('CO2 emissions \\(metric')\n",
    "mask2= data['CountryCode'].str.contains('USA')\n",
    "stat=data[mask1 & mask2]"
   ]
  },
  {
   "cell_type": "code",
   "execution_count": 12,
   "metadata": {},
   "outputs": [
    {
     "data": {
      "text/plain": [
       "array([1960, 1961, 1962, 1963, 1964, 1965, 1966, 1967, 1968, 1969, 1970,\n",
       "       1971, 1972, 1973, 1974, 1975, 1976, 1977, 1978, 1979, 1980, 1981,\n",
       "       1982, 1983, 1984, 1985, 1986, 1987, 1988, 1989, 1990, 1991, 1992,\n",
       "       1993, 1994, 1995, 1996, 1997, 1998, 1999, 2000, 2001, 2002, 2003,\n",
       "       2004, 2005, 2006, 2007, 2008, 2009, 2010, 2011], dtype=int64)"
      ]
     },
     "execution_count": 12,
     "metadata": {},
     "output_type": "execute_result"
    }
   ],
   "source": [
    "year= stat['Year'].values\n",
    "year"
   ]
  },
  {
   "cell_type": "code",
   "execution_count": 13,
   "metadata": {},
   "outputs": [
    {
     "data": {
      "text/plain": [
       "array([15.99977916, 15.68125552, 16.0139375 , 16.48276215, 16.96811858,\n",
       "       17.45172525, 18.12107301, 18.59831788, 19.08938916, 19.85794566,\n",
       "       21.11125227, 20.98020348, 21.74864198, 22.51058213, 21.50293038,\n",
       "       20.40222407, 21.15761537, 21.53248401, 21.97300469, 21.78043698,\n",
       "       20.78648774, 19.76676417, 18.59049523, 18.57154371, 18.97675027,\n",
       "       18.88231274, 18.72072272, 19.35033442, 20.01041341, 20.07576978,\n",
       "       19.32336817, 19.06223666, 19.14555576, 19.36346258, 19.37655644,\n",
       "       19.29565986, 19.52789051, 19.71427574, 19.6151546 , 19.74781478,\n",
       "       20.20761476, 19.65619321, 19.63919577, 19.57623905, 19.68358135,\n",
       "       19.61027504, 19.11613882, 19.23746045, 18.48923375, 17.1923791 ,\n",
       "       17.48479218, 17.02021634])"
      ]
     },
     "execution_count": 13,
     "metadata": {},
     "output_type": "execute_result"
    }
   ],
   "source": [
    "co2= stat['Value'].values\n",
    "co2"
   ]
  },
  {
   "cell_type": "code",
   "execution_count": 14,
   "metadata": {},
   "outputs": [
    {
     "data": {
      "image/png": "[encoded data removed]",
      "text/plain": [
       "<Figure size 432x288 with 1 Axes>"
      ]
     },
     "metadata": {
      "needs_background": "light"
     },
     "output_type": "display_data"
    }
   ],
   "source": [
    "plt.bar(year,co2, facecolor='red')\n",
    "plt.ylabel(stat['IndicatorName'].iloc[0])\n",
    "plt.xlabel('year')\n",
    "plt.title('co2 Emissions in the USA')\n",
    "plt.axis([1959, 2011,0,23])\n",
    "plt.show()"
   ]
  },
  {
   "cell_type": "code",
   "execution_count": 15,
   "metadata": {},
   "outputs": [
    {
     "name": "stdout",
     "output_type": "stream",
     "text": [
      "1960 to 2011\n"
     ]
    }
   ],
   "source": [
    "print(min(year),'to', max(year))"
   ]
  },
  {
   "cell_type": "code",
   "execution_count": 16,
   "metadata": {},
   "outputs": [
    {
     "name": "stdout",
     "output_type": "stream",
     "text": [
      "15.6812555160569 to 22.510582127233896\n"
     ]
    }
   ],
   "source": [
    "print(min(co2),'to', max(co2))"
   ]
  },
  {
   "cell_type": "code",
   "execution_count": 17,
   "metadata": {},
   "outputs": [
    {
     "name": "stdout",
     "output_type": "stream",
     "text": [
      "52\n"
     ]
    }
   ],
   "source": [
    "hist_data= stat['Value'].values\n",
    "print(len(hist_data))"
   ]
  },
  {
   "cell_type": "code",
   "execution_count": 18,
   "metadata": {},
   "outputs": [
    {
     "data": {
      "image/png": "[encoded data removed]",
      "text/plain": [
       "<Figure size 432x288 with 1 Axes>"
      ]
     },
     "metadata": {
      "needs_background": "light"
     },
     "output_type": "display_data"
    }
   ],
   "source": [
    "plt.hist(hist_data, 10, density=False, facecolor='green')\n",
    "plt.xlabel(stat['IndicatorName'].iloc[0])\n",
    "plt.ylabel('# years' )\n",
    "plt.title('Histogram Example')\n",
    "plt.grid(True)\n",
    "plt.show()"
   ]
  },
  {
   "cell_type": "code",
   "execution_count": 19,
   "metadata": {},
   "outputs": [
    {
     "data": {
      "text/html": [
       "<div>\n",
       "<style scoped>\n",
       "    .dataframe tbody tr th:only-of-type {\n",
       "        vertical-align: middle;\n",
       "    }\n",
       "\n",
       "    .dataframe tbody tr th {\n",
       "        vertical-align: top;\n",
       "    }\n",
       "\n",
       "    .dataframe thead th {\n",
       "        text-align: right;\n",
       "    }\n",
       "</style>\n",
       "<table border=\"1\" class=\"dataframe\">\n",
       "  <thead>\n",
       "    <tr style=\"text-align: right;\">\n",
       "      <th></th>\n",
       "      <th>CountryName</th>\n",
       "      <th>CountryCode</th>\n",
       "      <th>IndicatorName</th>\n",
       "      <th>IndicatorCode</th>\n",
       "      <th>Year</th>\n",
       "      <th>Value</th>\n",
       "    </tr>\n",
       "  </thead>\n",
       "  <tbody>\n",
       "    <tr>\n",
       "      <th>5026275</th>\n",
       "      <td>Arab World</td>\n",
       "      <td>ARB</td>\n",
       "      <td>CO2 emissions (metric tons per capita)</td>\n",
       "      <td>EN.ATM.CO2E.PC</td>\n",
       "      <td>2011</td>\n",
       "      <td>4.724500</td>\n",
       "    </tr>\n",
       "    <tr>\n",
       "      <th>5026788</th>\n",
       "      <td>Caribbean small states</td>\n",
       "      <td>CSS</td>\n",
       "      <td>CO2 emissions (metric tons per capita)</td>\n",
       "      <td>EN.ATM.CO2E.PC</td>\n",
       "      <td>2011</td>\n",
       "      <td>9.692960</td>\n",
       "    </tr>\n",
       "    <tr>\n",
       "      <th>5027295</th>\n",
       "      <td>Central Europe and the Baltics</td>\n",
       "      <td>CEB</td>\n",
       "      <td>CO2 emissions (metric tons per capita)</td>\n",
       "      <td>EN.ATM.CO2E.PC</td>\n",
       "      <td>2011</td>\n",
       "      <td>6.911131</td>\n",
       "    </tr>\n",
       "    <tr>\n",
       "      <th>5027870</th>\n",
       "      <td>East Asia &amp; Pacific (all income levels)</td>\n",
       "      <td>EAS</td>\n",
       "      <td>CO2 emissions (metric tons per capita)</td>\n",
       "      <td>EN.ATM.CO2E.PC</td>\n",
       "      <td>2011</td>\n",
       "      <td>5.859548</td>\n",
       "    </tr>\n",
       "    <tr>\n",
       "      <th>5028456</th>\n",
       "      <td>East Asia &amp; Pacific (developing only)</td>\n",
       "      <td>EAP</td>\n",
       "      <td>CO2 emissions (metric tons per capita)</td>\n",
       "      <td>EN.ATM.CO2E.PC</td>\n",
       "      <td>2011</td>\n",
       "      <td>5.302499</td>\n",
       "    </tr>\n",
       "  </tbody>\n",
       "</table>\n",
       "</div>"
      ],
      "text/plain": [
       "                                     CountryName CountryCode  \\\n",
       "5026275                               Arab World         ARB   \n",
       "5026788                   Caribbean small states         CSS   \n",
       "5027295           Central Europe and the Baltics         CEB   \n",
       "5027870  East Asia & Pacific (all income levels)         EAS   \n",
       "5028456    East Asia & Pacific (developing only)         EAP   \n",
       "\n",
       "                                  IndicatorName   IndicatorCode  Year  \\\n",
       "5026275  CO2 emissions (metric tons per capita)  EN.ATM.CO2E.PC  2011   \n",
       "5026788  CO2 emissions (metric tons per capita)  EN.ATM.CO2E.PC  2011   \n",
       "5027295  CO2 emissions (metric tons per capita)  EN.ATM.CO2E.PC  2011   \n",
       "5027870  CO2 emissions (metric tons per capita)  EN.ATM.CO2E.PC  2011   \n",
       "5028456  CO2 emissions (metric tons per capita)  EN.ATM.CO2E.PC  2011   \n",
       "\n",
       "            Value  \n",
       "5026275  4.724500  \n",
       "5026788  9.692960  \n",
       "5027295  6.911131  \n",
       "5027870  5.859548  \n",
       "5028456  5.302499  "
      ]
     },
     "execution_count": 19,
     "metadata": {},
     "output_type": "execute_result"
    }
   ],
   "source": [
    "hist_indicator=  data['IndicatorName'].str.contains('CO2 emissions \\(metric')\n",
    "hist_year= data['Year'].isin(['2011'])\n",
    "co2_2011=data[hist_indicator & hist_year]\n",
    "co2_2011.head()"
   ]
  },
  {
   "cell_type": "code",
   "execution_count": 21,
   "metadata": {},
   "outputs": [
    {
     "data": {
      "image/png": "[encoded data removed]",
      "text/plain": [
       "<Figure size 432x288 with 1 Axes>"
      ]
     },
     "metadata": {
      "needs_background": "light"
     },
     "output_type": "display_data"
    }
   ],
   "source": [
    "fig, ax = plt.subplots()\n",
    "\n",
    "ax.annotate(\"USA\",\n",
    "            xy=(18, 5), xycoords='data',\n",
    "            xytext=(18, 30), textcoords='data',\n",
    "            arrowprops=dict(arrowstyle=\"->\",\n",
    "                            connectionstyle=\"arc3\"),\n",
    "            )\n",
    "\n",
    "plt.hist(co2_2011['Value'], 10, density=False, facecolor='green')\n",
    "\n",
    "plt.xlabel(stat['IndicatorName'].iloc[0])\n",
    "plt.ylabel('# of Countries')\n",
    "plt.title('Histogram of CO2 Emissions Per Capita')\n",
    "\n",
    "#plt.axis([10, 22, 0, 14])\n",
    "plt.grid(True)\n",
    "\n",
    "plt.show()"
   ]
  },
  {
   "cell_type": "code",
   "execution_count": 22,
   "metadata": {},
   "outputs": [
    {
     "data": {
      "text/html": [
       "<div>\n",
       "<style scoped>\n",
       "    .dataframe tbody tr th:only-of-type {\n",
       "        vertical-align: middle;\n",
       "    }\n",
       "\n",
       "    .dataframe tbody tr th {\n",
       "        vertical-align: top;\n",
       "    }\n",
       "\n",
       "    .dataframe thead th {\n",
       "        text-align: right;\n",
       "    }\n",
       "</style>\n",
       "<table border=\"1\" class=\"dataframe\">\n",
       "  <thead>\n",
       "    <tr style=\"text-align: right;\">\n",
       "      <th></th>\n",
       "      <th>CountryName</th>\n",
       "      <th>CountryCode</th>\n",
       "      <th>IndicatorName</th>\n",
       "      <th>IndicatorCode</th>\n",
       "      <th>Year</th>\n",
       "      <th>Value</th>\n",
       "    </tr>\n",
       "  </thead>\n",
       "  <tbody>\n",
       "    <tr>\n",
       "      <th>5018182</th>\n",
       "      <td>United States</td>\n",
       "      <td>USA</td>\n",
       "      <td>GDP per capita (constant 2005 US$)</td>\n",
       "      <td>NY.GDP.PCAP.KD</td>\n",
       "      <td>2010</td>\n",
       "      <td>43961.168477</td>\n",
       "    </tr>\n",
       "    <tr>\n",
       "      <th>5194861</th>\n",
       "      <td>United States</td>\n",
       "      <td>USA</td>\n",
       "      <td>GDP per capita (constant 2005 US$)</td>\n",
       "      <td>NY.GDP.PCAP.KD</td>\n",
       "      <td>2011</td>\n",
       "      <td>44324.944522</td>\n",
       "    </tr>\n",
       "    <tr>\n",
       "      <th>5370008</th>\n",
       "      <td>United States</td>\n",
       "      <td>USA</td>\n",
       "      <td>GDP per capita (constant 2005 US$)</td>\n",
       "      <td>NY.GDP.PCAP.KD</td>\n",
       "      <td>2012</td>\n",
       "      <td>45008.614113</td>\n",
       "    </tr>\n",
       "    <tr>\n",
       "      <th>5527438</th>\n",
       "      <td>United States</td>\n",
       "      <td>USA</td>\n",
       "      <td>GDP per capita (constant 2005 US$)</td>\n",
       "      <td>NY.GDP.PCAP.KD</td>\n",
       "      <td>2013</td>\n",
       "      <td>45660.733802</td>\n",
       "    </tr>\n",
       "    <tr>\n",
       "      <th>5637323</th>\n",
       "      <td>United States</td>\n",
       "      <td>USA</td>\n",
       "      <td>GDP per capita (constant 2005 US$)</td>\n",
       "      <td>NY.GDP.PCAP.KD</td>\n",
       "      <td>2014</td>\n",
       "      <td>46405.247065</td>\n",
       "    </tr>\n",
       "  </tbody>\n",
       "</table>\n",
       "</div>"
      ],
      "text/plain": [
       "           CountryName CountryCode                       IndicatorName  \\\n",
       "5018182  United States         USA  GDP per capita (constant 2005 US$)   \n",
       "5194861  United States         USA  GDP per capita (constant 2005 US$)   \n",
       "5370008  United States         USA  GDP per capita (constant 2005 US$)   \n",
       "5527438  United States         USA  GDP per capita (constant 2005 US$)   \n",
       "5637323  United States         USA  GDP per capita (constant 2005 US$)   \n",
       "\n",
       "          IndicatorCode  Year         Value  \n",
       "5018182  NY.GDP.PCAP.KD  2010  43961.168477  \n",
       "5194861  NY.GDP.PCAP.KD  2011  44324.944522  \n",
       "5370008  NY.GDP.PCAP.KD  2012  45008.614113  \n",
       "5527438  NY.GDP.PCAP.KD  2013  45660.733802  \n",
       "5637323  NY.GDP.PCAP.KD  2014  46405.247065  "
      ]
     },
     "execution_count": 22,
     "metadata": {},
     "output_type": "execute_result"
    }
   ],
   "source": [
    "hist_indi = data['IndicatorName'].str.contains('GDP per capita \\(constant 2005')\n",
    "hist_count = data['CountryCode'].str.contains('USA')\n",
    "gdp_stat=data[hist_indi & hist_count]\n",
    "gdp_stat.tail()"
   ]
  },
  {
   "cell_type": "code",
   "execution_count": 23,
   "metadata": {},
   "outputs": [
    {
     "data": {
      "image/png": "[encoded data removed]",
      "text/plain": [
       "<Figure size 432x288 with 1 Axes>"
      ]
     },
     "metadata": {
      "needs_background": "light"
     },
     "output_type": "display_data"
    }
   ],
   "source": [
    "plt.plot(gdp_stat['Year'].values , gdp_stat['Value'].values)\n",
    "plt.ylabel(gdp_stat['IndicatorName'].iloc[0])\n",
    "plt.xlabel('# year')\n",
    "plt.title('GDP per Capita USA')\n",
    "#plt.axis([1959, 2011,0,25])\n",
    "plt.show()"
   ]
  },
  {
   "cell_type": "markdown",
   "metadata": {},
   "source": [
    "# co2 and gdp #"
   ]
  },
  {
   "cell_type": "code",
   "execution_count": 28,
   "metadata": {},
   "outputs": [
    {
     "name": "stdout",
     "output_type": "stream",
     "text": [
      "1960 2014\n",
      "1960 2011\n"
     ]
    }
   ],
   "source": [
    "print( gdp_stat['Year'].min(), gdp_stat['Year'].max())\n",
    "print(stat['Year'].min(), stat['Year'].max())"
   ]
  },
  {
   "cell_type": "code",
   "execution_count": 34,
   "metadata": {},
   "outputs": [
    {
     "name": "stdout",
     "output_type": "stream",
     "text": [
      "52\n",
      "52\n"
     ]
    }
   ],
   "source": [
    "new_gdp_stat = gdp_stat[gdp_stat['Year']< 2012]\n",
    "print(len(new_gdp_stat))\n",
    "print(len(stat))"
   ]
  },
  {
   "cell_type": "code",
   "execution_count": 36,
   "metadata": {},
   "outputs": [
    {
     "data": {
      "image/png": "[encoded data removed]",
      "text/plain": [
       "<Figure size 432x288 with 1 Axes>"
      ]
     },
     "metadata": {
      "needs_background": "light"
     },
     "output_type": "display_data"
    }
   ],
   "source": [
    "fig, axis= plt.subplots()\n",
    "\n",
    "axis.yaxis.grid(True)\n",
    "axis.xaxis.grid(True)\n",
    "axis.set_xlabel(stat['IndicatorName'].iloc[0],fontsize=10)\n",
    "axis.set_ylabel(gdp_stat['IndicatorName'].iloc[0],fontsize=10)\n",
    "#axis.set_title(gdp_stat['IndicatorName'].iloc[0],'vs',(stat['IndicatorName'].iloc[0]),fontsize=10)\n",
    "\n",
    "X = new_gdp_stat['Value']\n",
    "Y = stat['Value']\n",
    "\n",
    "axis.scatter(Y,X)\n",
    "plt.show()"
   ]
  },
  {
   "cell_type": "code",
   "execution_count": 37,
   "metadata": {},
   "outputs": [
    {
     "data": {
      "text/plain": [
       "array([[1.        , 0.07676005],\n",
       "       [0.07676005, 1.        ]])"
      ]
     },
     "execution_count": 37,
     "metadata": {},
     "output_type": "execute_result"
    }
   ],
   "source": [
    "np.corrcoef(new_gdp_stat['Value'],stat['Value'])"
   ]
  },
  {
   "cell_type": "code",
   "execution_count": null,
   "metadata": {},
   "outputs": [],
   "source": []
  }
 ],
 "metadata": {
  "kernelspec": {
   "display_name": "Python 3",
   "language": "python",
   "name": "python3"
  },
  "language_info": {
   "codemirror_mode": {
    "name": "ipython",
    "version": 3
   },
   "file_extension": ".py",
   "mimetype": "text/x-python",
   "name": "python",
   "nbconvert_exporter": "python",
   "pygments_lexer": "ipython3",
   "version": "3.7.6"
  }
 },
 "nbformat": 4,
 "nbformat_minor": 4
}
